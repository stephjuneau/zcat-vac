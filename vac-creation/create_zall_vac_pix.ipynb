{
 "cells": [
  {
   "cell_type": "markdown",
   "id": "1f46f80a-ac4e-4ff7-95a6-f5aa0123408b",
   "metadata": {},
   "source": [
    "# Create redshift summary `zall` value added catalog: Healpix Version\n",
    "Stéphanie Juneau (NOIRLab)\n",
    "\n",
    "## Imports"
   ]
  },
  {
   "cell_type": "code",
   "execution_count": 1,
   "id": "7c3b51a3-2744-4932-91c0-7ef58340e9bb",
   "metadata": {},
   "outputs": [],
   "source": [
    "import os\n",
    "import sys\n",
    "#sys.path.insert(0, os.path.join(os.environ['HOME'], 'desihub', 'desispec', 'py'))\n",
    "import numpy as np\n",
    "\n",
    "from astropy.table import Table, vstack\n",
    "from astropy.io import fits\n",
    "\n",
    "from desispec import coaddition"
   ]
  },
  {
   "cell_type": "markdown",
   "id": "9100f98e-8e5b-4ccd-9525-c2508ac22584",
   "metadata": {},
   "source": [
    "## HEALPIX coadd redshift catalog: `zall-pix` "
   ]
  },
  {
   "cell_type": "code",
   "execution_count": 2,
   "id": "cd53fdcc-6abd-4558-947a-be3a5d681eb9",
   "metadata": {},
   "outputs": [],
   "source": [
    "# List all combinations for fuji\n",
    "surveys_all = ['cmx', 'special',  'sv1',  'sv1',  'sv1',  'sv1',  'sv2',  'sv2',  'sv2',  'sv3',  'sv3',  'sv3']\n",
    "programs_all = ['other', 'dark', 'backup', 'bright', 'dark', 'other', 'backup', 'bright', 'dark', 'backup', 'bright', 'dark']\n",
    "\n",
    "N = len(surveys_all)"
   ]
  },
  {
   "cell_type": "code",
   "execution_count": 3,
   "id": "48803d6e-cb2d-4c5c-989a-b612d6c7b837",
   "metadata": {},
   "outputs": [],
   "source": [
    "zall_orig_file = \"/global/cfs/cdirs/desi/spectro/redux/fuji/zcatalog/zall-pix-fuji.fits\"\n",
    "zvac_path = \"/global/cfs/cdirs/desi/science/gqp/vac/edr/zcat/tests/\"\n",
    "zvac_file = zvac_path+\"zall-pix-edr-vac.fits\""
   ]
  },
  {
   "cell_type": "markdown",
   "id": "dd2967e3-a724-4d68-8b3e-b9163005c41f",
   "metadata": {},
   "source": [
    "## For `zpix` loop over {survey}-{program}"
   ]
  },
  {
   "cell_type": "code",
   "execution_count": 20,
   "id": "3b06861f-fd01-4564-ba2c-cabb4fa278a6",
   "metadata": {
    "tags": []
   },
   "outputs": [
    {
     "name": "stdout",
     "output_type": "stream",
     "text": [
      "/global/cfs/cdirs/desi/spectro/redux/fuji/zcatalog/zpix-sv1-bright.fits\n",
      "Problematic TARGETID with no good_coadds&good_coords: 39627731599624825\n",
      "CPU times: user 44min 56s, sys: 5.7 s, total: 45min 2s\n",
      "Wall time: 45min 7s\n"
     ]
    }
   ],
   "source": [
    "%%time\n",
    "# re-run 3 (sv1-bright)\n",
    "for i in np.arange(3,4):\n",
    "\n",
    "    survey = surveys_all[i]\n",
    "    program = programs_all[i]\n",
    "\n",
    "    # Read file with two extensions per each survey-program\n",
    "    zfile = f\"/global/cfs/cdirs/desi/spectro/redux/fuji/zcatalog/zpix-{survey}-{program}.fits\"\n",
    "   \n",
    "    print(zfile)    \n",
    "    zcat_single = Table.read(zfile, \"ZCATALOG\")\n",
    "    fibermap_input = Table.read(zfile, \"EXP_FIBERMAP\")\n",
    "    \n",
    "    # Keep only rows with TARGETID>0\n",
    "    zcat_single = zcat_single[zcat_single['TARGETID']>0]\n",
    "    fibermap_input = fibermap_input[fibermap_input['TARGETID']>0]\n",
    "    \n",
    "    #- Sanity check\n",
    "    Nuniq_id = len(np.unique(zcat_single['TARGETID']))\n",
    "    \n",
    "    if Nuniq_id!=len(zcat_single):\n",
    "        msg = f'ERROR: Not all input TARGETIDs are unique: found {Nuniq_id} unique out of {len(zcat_single)}'\n",
    "        u, indices, counts = np.unique(zcat_single['TARGETID'], return_index=True, return_counts=True)\n",
    "        dup = zcat_single['TARGETID'][indices][counts>1]\n",
    "        print(f\"Number of cases with N>1 TARGETIDs: {len(dup)}\")\n",
    "        print(f\"with TARGETID<0: {len(dup[dup<0])}\")\n",
    "        print(\"=========================================\")\n",
    "\n",
    "    # Free memory\n",
    "    del zcat_single\n",
    "        \n",
    "    # Obtain coadded fibermap and exp_fibermap (again)\n",
    "    tfmap, _ = coaddition.coadd_fibermap(fibermap_input)\n",
    "    \n",
    "    tfmap['SURVEY']=survey\n",
    "    tfmap['PROGRAM']=program\n",
    "    \n",
    "    patch_file = f\"tmp_patch/zpix-{survey}-{program}-coaddpatch.fits\"\n",
    "    tfmap.write(patch_file, overwrite=True)"
   ]
  },
  {
   "cell_type": "markdown",
   "id": "539a23bf-7b9a-4590-bb61-c8579695ba70",
   "metadata": {},
   "source": [
    "### In /global/cfs/cdirs/desi/spectro/redux/fuji/zcatalog/zpix-sv1-bright.fits\n",
    "Problematic TARGETID with no good_coadds&good_coords: 39627731599624825\n",
    "`tid = 39627731599624825`\n",
    "\n",
    "### In /global/cfs/cdirs/desi/spectro/redux/fuji/zcatalog/zpix-sv1-other.fits\n",
    "```\n",
    "#Problematic TARGETID with no good_coadds&good_coords: 616094057155789098\n",
    "#Problematic TARGETID with no good_coadds&good_coords: 39633332794819324\n",
    "#Problematic TARGETID with no good_coadds&good_coords: 39633336196401313\n",
    "#Problematic TARGETID with no good_coadds&good_coords: 234520867504138\n",
    "```\n",
    "\n",
    "### In /global/cfs/cdirs/desi/spectro/redux/fuji/zcatalog/zpix-sv3-dark.fits\n",
    "```\n",
    "Problematic TARGETID with no good_coadds&good_coords: 616088557668271184\n",
    "Problematic TARGETID with no good_coadds&good_coords: 616088557668271075\n",
    "Problematic TARGETID with no good_coadds&good_coords: 39627805356461773\n",
    "Problematic TARGETID with no good_coadds&good_coords: 616088575779275866\n",
    "Problematic TARGETID with no good_coadds&good_coords: 39627841586859614\n",
    "Problematic TARGETID with no good_coadds&good_coords: 39627817465416000\n",
    "Problematic TARGETID with no good_coadds&good_coords: 39627835563837424\n",
    "Problematic TARGETID with no good_coadds&good_coords: 39627835568032521\n",
    "Problematic TARGETID with no good_coadds&good_coords: 39627835572227827\n",
    "Problematic TARGETID with no good_coadds&good_coords: 39627841612025987\n",
    "Problematic TARGETID with no good_coadds&good_coords: 39627835572229137\n",
    "Problematic TARGETID with no good_coadds&good_coords: 39627835572228083\n",
    "Problematic TARGETID with no good_coadds&good_coords: 616088587875648333\n",
    "Problematic TARGETID with no good_coadds&good_coords: 616088587879842451\n",
    "Problematic TARGETID with no good_coadds&good_coords: 616088587875648413\n",
    "Problematic TARGETID with no good_coadds&good_coords: 616088593915445263\n",
    "Problematic TARGETID with no good_coadds&good_coords: 39627835572228170\n",
    "Problematic TARGETID with no good_coadds&good_coords: 39627841612026522\n",
    "Problematic TARGETID with no good_coadds&good_coords: 39627835568033883\n",
    "Problematic TARGETID with no good_coadds&good_coords: 39627841607831781\n",
    "Problematic TARGETID with no good_coadds&good_coords: 39627835568033903\n",
    "Problematic TARGETID with no good_coadds&good_coords: 39627835568034833\n",
    "Problematic TARGETID with no good_coadds&good_coords: 39627835568033573\n",
    "Problematic TARGETID with no good_coadds&good_coords: 39627829536621185\n",
    "Problematic TARGETID with no good_coadds&good_coords: 616088587879842243\n",
    "Problematic TARGETID with no good_coadds&good_coords: 616088587875647570\n",
    "Problematic TARGETID with no good_coadds&good_coords: 616088587875647773\n",
    "Problematic TARGETID with no good_coadds&good_coords: 616088587871454167\n",
    "Problematic TARGETID with no good_coadds&good_coords: 616088587871453919\n",
    "Problematic TARGETID with no good_coadds&good_coords: 39627835572225561\n",
    "Problematic TARGETID with no good_coadds&good_coords: 1083355953102852\n",
    "Problematic TARGETID with no good_coadds&good_coords: 616088587875647714\n",
    "Problematic TARGETID with no good_coadds&good_coords: 616088587875648112\n",
    "Problematic TARGETID with no good_coadds&good_coords: 616088581835850387\n",
    "Problematic TARGETID with no good_coadds&good_coords: 39627847668598082\n",
    "Problematic TARGETID with no good_coadds&good_coords: 39627847668598671\n",
    "Problematic TARGETID with no good_coadds&good_coords: 39627841612026957\n",
    "Problematic TARGETID with no good_coadds&good_coords: 39627841616217178\n",
    "Problematic TARGETID with no good_coadds&good_coords: 616088599942661164\n",
    "Problematic TARGETID with no good_coadds&good_coords: 39627853683229651\n",
    "Problematic TARGETID with no good_coadds&good_coords: 616088618066248363\n",
    "Problematic TARGETID with no good_coadds&good_coords: 39627853691619597\n",
    "Problematic TARGETID with no good_coadds&good_coords: 39627847651819585\n",
    "Problematic TARGETID with no good_coadds&good_coords: 39627853708395797\n",
    "Problematic TARGETID with no good_coadds&good_coords: 39627871806820161\n",
    "Problematic TARGETID with no good_coadds&good_coords: 616088605965681487\n",
    "Problematic TARGETID with no good_coadds&good_coords: 616088612009673465\n",
    "Problematic TARGETID with no good_coadds&good_coords: 616088612013868190\n",
    "Problematic TARGETID with no good_coadds&good_coords: 39627865746051214\n",
    "Problematic TARGETID with no good_coadds&good_coords: 39627865754441085\n",
    "```"
   ]
  },
  {
   "cell_type": "markdown",
   "id": "861d6284-6776-4c35-a969-fcea267c23fa",
   "metadata": {},
   "source": [
    "## Original zall file"
   ]
  },
  {
   "cell_type": "code",
   "execution_count": 8,
   "id": "d3cde8f9-bc1e-4dc6-ad6b-a1c8bbb40f47",
   "metadata": {
    "tags": []
   },
   "outputs": [],
   "source": [
    "#hdul = fits.open(zall_orig_file)\n",
    "#hdr = hdul[1].header"
   ]
  },
  {
   "cell_type": "code",
   "execution_count": 9,
   "id": "c144a0d3-d041-4bf2-bb1d-05ed5535710b",
   "metadata": {},
   "outputs": [
    {
     "name": "stdout",
     "output_type": "stream",
     "text": [
      "Filename: /global/cfs/cdirs/desi/spectro/redux/fuji/zcatalog/zall-pix-fuji.fits\n",
      "No.    Name      Ver    Type      Cards   Dimensions   Format\n",
      "  0  PRIMARY       1 PrimaryHDU       4   ()      \n",
      "  1  ZCATALOG      1 BinTableHDU    333   2847435R x 130C   [K, 7A, 6A, J, J, D, D, K, D, 10D, K, 6A, 20A, K, D, J, D, D, E, E, E, K, B, 3A, D, J, I, 8A, J, J, 4A, E, E, E, E, E, E, E, E, E, E, E, E, E, E, E, E, E, I, E, E, E, E, K, 2A, E, E, E, E, 1A, K, K, K, K, K, K, K, K, K, K, K, K, K, K, K, K, K, K, K, D, D, I, E, I, I, E, E, E, E, D, E, D, E, E, E, E, E, E, E, E, E, E, E, E, E, E, E, E, E, E, E, E, E, E, E, E, E, E, E, E, E, E, E, E, E, E, J, L, K, L]   \n"
     ]
    }
   ],
   "source": [
    "fits.info(zall_orig_file)"
   ]
  },
  {
   "cell_type": "code",
   "execution_count": 10,
   "id": "42d208d5-8686-4940-a225-8e6cb4d44095",
   "metadata": {},
   "outputs": [
    {
     "name": "stdout",
     "output_type": "stream",
     "text": [
      "CPU times: user 8.13 s, sys: 1.16 s, total: 9.29 s\n",
      "Wall time: 9.63 s\n"
     ]
    }
   ],
   "source": [
    "%%time\n",
    "# Read input catalog and only keep cases with TARGETID>0\n",
    "tz = Table.read(zall_orig_file)\n",
    "tz = tz[tz['TARGETID']>0]"
   ]
  },
  {
   "cell_type": "markdown",
   "id": "5ad12a9c-54c6-496b-a264-c48e38c8fd78",
   "metadata": {},
   "source": [
    "## Read in patch files"
   ]
  },
  {
   "cell_type": "code",
   "execution_count": 14,
   "id": "427793b9-543f-4936-a0db-7b505df88ea3",
   "metadata": {
    "tags": []
   },
   "outputs": [],
   "source": [
    "t_patch = Table()\n",
    "\n",
    "# N\n",
    "for i in range(N):\n",
    "    survey = surveys_all[i]\n",
    "    program = programs_all[i]\n",
    "\n",
    "    # Read file per each survey-program\n",
    "    filename = f\"tmp_patch/zpix-{survey}-{program}-coaddpatch.fits\"\n",
    "    t = Table.read(filename)\n",
    "    \n",
    "    t_patch = vstack([t_patch, t])"
   ]
  },
  {
   "cell_type": "code",
   "execution_count": 15,
   "id": "41fe457e-71ce-43ee-8ae0-4e520e32c13f",
   "metadata": {
    "tags": []
   },
   "outputs": [
    {
     "name": "stdout",
     "output_type": "stream",
     "text": [
      "2451325\n"
     ]
    },
    {
     "data": {
      "text/html": [
       "<div><i>Table length=5</i>\n",
       "<table id=\"table140124032311280\" class=\"table-striped table-bordered table-condensed\">\n",
       "<thead><tr><th>TARGETID</th><th>SUBPRIORITY</th><th>COADD_FIBERSTATUS</th><th>PLATE_RA</th><th>PLATE_DEC</th><th>COADD_NUMEXP</th><th>COADD_EXPTIME</th><th>COADD_NUMNIGHT</th><th>COADD_NUMTILE</th><th>MEAN_DELTA_X</th><th>RMS_DELTA_X</th><th>MEAN_DELTA_Y</th><th>RMS_DELTA_Y</th><th>MEAN_FIBER_RA</th><th>STD_FIBER_RA</th><th>MEAN_FIBER_DEC</th><th>STD_FIBER_DEC</th><th>MEAN_PSF_TO_FIBER_SPECFLUX</th><th>MEAN_MJD</th><th>MIN_MJD</th><th>MAX_MJD</th><th>FIRSTNIGHT</th><th>LASTNIGHT</th><th>SURVEY</th><th>PROGRAM</th></tr></thead>\n",
       "<thead><tr><th>int64</th><th>float64</th><th>int32</th><th>float64</th><th>float64</th><th>int16</th><th>float32</th><th>int16</th><th>int16</th><th>float32</th><th>float32</th><th>float32</th><th>float32</th><th>float64</th><th>float32</th><th>float64</th><th>float32</th><th>float32</th><th>float64</th><th>float64</th><th>float64</th><th>int32</th><th>int32</th><th>bytes7</th><th>bytes6</th></tr></thead>\n",
       "<tr><td>616089230757593610</td><td>0.8476382465505894</td><td>0</td><td>23.914121939862518</td><td>29.974787585945496</td><td>4</td><td>3600.0</td><td>1</td><td>1</td><td>-0.004</td><td>0.008336666</td><td>-0.00275</td><td>0.009987492</td><td>23.914140396147115</td><td>0.10535834</td><td>29.974777243955057</td><td>0.12941206</td><td>0.793052</td><td>59200.095110124996</td><td>59200.06640136</td><td>59200.12381137</td><td>20201216</td><td>20201216</td><td>cmx</td><td>other</td></tr>\n",
       "<tr><td>616089230757593262</td><td>0.9301407809760713</td><td>0</td><td>23.905491290541182</td><td>29.90032712430992</td><td>4</td><td>3600.0</td><td>1</td><td>1</td><td>-0.00475</td><td>0.007566373</td><td>-0.0025</td><td>0.01129159</td><td>23.905513091230183</td><td>0.08438433</td><td>29.90031779723897</td><td>0.14655373</td><td>0.7932379</td><td>59200.095110124996</td><td>59200.06640136</td><td>59200.12381137</td><td>20201216</td><td>20201216</td><td>cmx</td><td>other</td></tr>\n",
       "<tr><td>39628478454170137</td><td>0.3927336764704654</td><td>0</td><td>23.93005903688657</td><td>29.945165409639735</td><td>4</td><td>3600.0</td><td>1</td><td>1</td><td>-0.0035</td><td>0.0073824115</td><td>-0.0055</td><td>0.010511898</td><td>23.930075231875904</td><td>0.09331009</td><td>29.94514489757412</td><td>0.120107435</td><td>0.789</td><td>59200.095110124996</td><td>59200.06640136</td><td>59200.12381137</td><td>20201216</td><td>20201216</td><td>cmx</td><td>other</td></tr>\n",
       "<tr><td>616089230757593291</td><td>0.9073811024291156</td><td>0</td><td>23.952914372172064</td><td>29.91055846957993</td><td>4</td><td>3600.0</td><td>1</td><td>1</td><td>-0.00325</td><td>0.00813941</td><td>-0.0015</td><td>0.01088577</td><td>23.95292928042274</td><td>0.10678019</td><td>29.91055287529291</td><td>0.14371742</td><td>0.7932377</td><td>59200.095110124996</td><td>59200.06640136</td><td>59200.12381137</td><td>20201216</td><td>20201216</td><td>cmx</td><td>other</td></tr>\n",
       "<tr><td>1152921504619432614</td><td>0.14599465692329916</td><td>0</td><td>23.90371722347114</td><td>29.941271328683744</td><td>4</td><td>3600.0</td><td>1</td><td>1</td><td>-0.0065</td><td>0.009643651</td><td>-0.0005</td><td>0.010319884</td><td>23.90374703850437</td><td>0.10229166</td><td>29.94126934624345</td><td>0.1381213</td><td>0.7932362</td><td>59200.095110124996</td><td>59200.06640136</td><td>59200.12381137</td><td>20201216</td><td>20201216</td><td>cmx</td><td>other</td></tr>\n",
       "</table></div>"
      ],
      "text/plain": [
       "<Table length=5>\n",
       "      TARGETID          SUBPRIORITY     COADD_FIBERSTATUS ... SURVEY PROGRAM\n",
       "       int64              float64             int32       ... bytes7  bytes6\n",
       "------------------- ------------------- ----------------- ... ------ -------\n",
       " 616089230757593610  0.8476382465505894                 0 ...    cmx   other\n",
       " 616089230757593262  0.9301407809760713                 0 ...    cmx   other\n",
       "  39628478454170137  0.3927336764704654                 0 ...    cmx   other\n",
       " 616089230757593291  0.9073811024291156                 0 ...    cmx   other\n",
       "1152921504619432614 0.14599465692329916                 0 ...    cmx   other"
      ]
     },
     "execution_count": 15,
     "metadata": {},
     "output_type": "execute_result"
    }
   ],
   "source": [
    "print(len(t_patch))\n",
    "t_patch[:5]"
   ]
  },
  {
   "cell_type": "markdown",
   "id": "6f6376a9-84b2-4fb6-b4e0-a7ae48489314",
   "metadata": {},
   "source": [
    "## Replace and add columns based on patch files"
   ]
  },
  {
   "cell_type": "code",
   "execution_count": 17,
   "id": "a1ec0e27-890e-4fe8-bc7c-afcbd307c865",
   "metadata": {},
   "outputs": [],
   "source": [
    "%%time\n",
    "# Check that lenghts and row order are consistent\n",
    "Nz = len(tz)\n",
    "Np = len(t_patch)\n",
    "\n",
    "# Columns exist but values are updated\n",
    "cols_to_replace = ['MEAN_DELTA_X','RMS_DELTA_X','MEAN_DELTA_Y','RMS_DELTA_Y','MEAN_FIBER_RA', \\\n",
    "                   'STD_FIBER_RA', 'MEAN_FIBER_DEC', 'STD_FIBER_DEC','MEAN_PSF_TO_FIBER_SPECFLUX']\n",
    "\n",
    "# New columns\n",
    "cols_to_add = ['MIN_MJD', 'MEAN_MJD', 'MAX_MJD', 'FIRSTNIGHT', 'LASTNIGHT']\n",
    "\n",
    "if Nz==Np:\n",
    "    tz.sort(['SURVEY','PROGRAM','TARGETID'])\n",
    "    t_patch.sort(['SURVEY','PROGRAM','TARGETID'])\n",
    "    \n",
    "    # Replace columns listed above\n",
    "    for col in cols_to_replace:\n",
    "        tz[col] = t_patch[col]\n",
    "\n",
    "    # Add new columns listed above\n",
    "    for col in cols_to_add:\n",
    "        tz[col] = t_patch[col]"
   ]
  },
  {
   "cell_type": "markdown",
   "id": "68bcfd25-bd06-4bd1-a18d-7b7d0ffaf71c",
   "metadata": {},
   "source": [
    "## Adding targeting column patch"
   ]
  },
  {
   "cell_type": "code",
   "execution_count": null,
   "id": "e7043322-2e21-4f91-920b-0d4ca7b5e915",
   "metadata": {},
   "outputs": [],
   "source": [
    "patchfile = zvac_path+\"zall-pix-targeting-patch-edr.fits\"\n",
    "tg = Table.read(patchfile)"
   ]
  },
  {
   "cell_type": "code",
   "execution_count": null,
   "id": "bea1b574-af44-41e7-b34e-f7a5f5cde915",
   "metadata": {},
   "outputs": [],
   "source": [
    "tg = tg[tg['SURVEY']!='cmx']  # N=272 excluding CMX\n",
    "print(f\"Check if N=272: {(len(tg)==272)}\")"
   ]
  },
  {
   "cell_type": "code",
   "execution_count": 1,
   "id": "289b2e5d-c85b-4511-857e-8dfd219bb063",
   "metadata": {},
   "outputs": [],
   "source": [
    "target_cols = ['CMX_TARGET', 'DESI_TARGET', 'BGS_TARGET', 'MWS_TARGET', \\\n",
    "               'SV1_DESI_TARGET', 'SV1_BGS_TARGET', 'SV1_MWS_TARGET', \\\n",
    "               'SV2_DESI_TARGET', 'SV2_BGS_TARGET', 'SV2_MWS_TARGET', \\\n",
    "               'SV3_DESI_TARGET', 'SV3_BGS_TARGET', 'SV3_MWS_TARGET', \\\n",
    "               'SCND_TARGET', 'SV1_SCND_TARGET', 'SV2_SCND_TARGET', 'SV3_SCND_TARGET']"
   ]
  },
  {
   "cell_type": "code",
   "execution_count": null,
   "id": "3fdc4a0a-a019-4e87-8c28-39e6f5b9d3d9",
   "metadata": {},
   "outputs": [],
   "source": [
    "%%time\n",
    "for i,tid in enumerate(tg['TARGETID']):\n",
    "    ii = (tz['TARGETID']==tid)&(tz['SURVEY']==tg['SURVEY'][i])&(tz['PROGRAM']==tg['PROGRAM'][i])\n",
    "    if len(zpix_before[ii])>1: print(f\"ERROR: more than one match!! for {tid}\")\n",
    "    for col in target_cols:\n",
    "        tz[col][ii] = tg[col][i]"
   ]
  },
  {
   "cell_type": "code",
   "execution_count": null,
   "id": "2ae27768-de49-483d-9cf2-0792a5b789ee",
   "metadata": {},
   "outputs": [],
   "source": [
    "# Fix DESI_TARGET to be zero for CMX\n",
    "is_cmx = tz['SURVEY']=='cmx'\n",
    "tz['DESI_TARGET'][is_cmx] = 0"
   ]
  },
  {
   "cell_type": "markdown",
   "id": "9cba5203-509d-4ba9-960e-4a39c87c1a67",
   "metadata": {},
   "source": [
    "## Save output file"
   ]
  },
  {
   "cell_type": "code",
   "execution_count": 18,
   "id": "1e650dad-bddc-4e3a-9dbe-cb66db7df108",
   "metadata": {},
   "outputs": [],
   "source": [
    "tz.write(zvac_file)"
   ]
  },
  {
   "cell_type": "code",
   "execution_count": null,
   "id": "84c028f2-d6cf-4081-93c4-7623738c1140",
   "metadata": {},
   "outputs": [],
   "source": []
  }
 ],
 "metadata": {
  "kernelspec": {
   "display_name": "DESI 22.2",
   "language": "python",
   "name": "desi_22.2"
  },
  "language_info": {
   "codemirror_mode": {
    "name": "ipython",
    "version": 3
   },
   "file_extension": ".py",
   "mimetype": "text/x-python",
   "name": "python",
   "nbconvert_exporter": "python",
   "pygments_lexer": "ipython3",
   "version": "3.8.8"
  }
 },
 "nbformat": 4,
 "nbformat_minor": 5
}
